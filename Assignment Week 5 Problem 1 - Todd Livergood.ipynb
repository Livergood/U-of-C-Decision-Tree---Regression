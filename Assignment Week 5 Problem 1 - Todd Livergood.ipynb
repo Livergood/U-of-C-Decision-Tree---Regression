{
 "cells": [
  {
   "cell_type": "markdown",
   "metadata": {},
   "source": [
    "1.)  First, import all of the libraries we might need."
   ]
  },
  {
   "cell_type": "code",
   "execution_count": 1,
   "metadata": {},
   "outputs": [],
   "source": [
    "from sklearn.model_selection import train_test_split\n",
    "import pandas as pd\n",
    "from sklearn.tree import DecisionTreeRegressor\n",
    "from sklearn.model_selection import GridSearchCV\n",
    "from sklearn.metrics import mean_absolute_error, r2_score\n",
    "from sklearn.tree import export_graphviz\n",
    "import graphviz\n",
    "from sklearn import datasets\n"
   ]
  },
  {
   "cell_type": "markdown",
   "metadata": {},
   "source": [
    "2.) Load the dataset"
   ]
  },
  {
   "cell_type": "code",
   "execution_count": 2,
   "metadata": {},
   "outputs": [
    {
     "data": {
      "text/html": [
       "<div>\n",
       "<style scoped>\n",
       "    .dataframe tbody tr th:only-of-type {\n",
       "        vertical-align: middle;\n",
       "    }\n",
       "\n",
       "    .dataframe tbody tr th {\n",
       "        vertical-align: top;\n",
       "    }\n",
       "\n",
       "    .dataframe thead th {\n",
       "        text-align: right;\n",
       "    }\n",
       "</style>\n",
       "<table border=\"1\" class=\"dataframe\">\n",
       "  <thead>\n",
       "    <tr style=\"text-align: right;\">\n",
       "      <th></th>\n",
       "      <th>Petrol_tax</th>\n",
       "      <th>Average_income</th>\n",
       "      <th>Paved_Highways</th>\n",
       "      <th>Population_Driver_licence(%)</th>\n",
       "      <th>Petrol_Consumption</th>\n",
       "    </tr>\n",
       "  </thead>\n",
       "  <tbody>\n",
       "    <tr>\n",
       "      <th>0</th>\n",
       "      <td>9.0</td>\n",
       "      <td>3571</td>\n",
       "      <td>1976</td>\n",
       "      <td>0.525</td>\n",
       "      <td>541</td>\n",
       "    </tr>\n",
       "    <tr>\n",
       "      <th>1</th>\n",
       "      <td>9.0</td>\n",
       "      <td>4092</td>\n",
       "      <td>1250</td>\n",
       "      <td>0.572</td>\n",
       "      <td>524</td>\n",
       "    </tr>\n",
       "    <tr>\n",
       "      <th>2</th>\n",
       "      <td>9.0</td>\n",
       "      <td>3865</td>\n",
       "      <td>1586</td>\n",
       "      <td>0.580</td>\n",
       "      <td>561</td>\n",
       "    </tr>\n",
       "    <tr>\n",
       "      <th>3</th>\n",
       "      <td>7.5</td>\n",
       "      <td>4870</td>\n",
       "      <td>2351</td>\n",
       "      <td>0.529</td>\n",
       "      <td>414</td>\n",
       "    </tr>\n",
       "    <tr>\n",
       "      <th>4</th>\n",
       "      <td>8.0</td>\n",
       "      <td>4399</td>\n",
       "      <td>431</td>\n",
       "      <td>0.544</td>\n",
       "      <td>410</td>\n",
       "    </tr>\n",
       "  </tbody>\n",
       "</table>\n",
       "</div>"
      ],
      "text/plain": [
       "   Petrol_tax  Average_income  Paved_Highways  Population_Driver_licence(%)  \\\n",
       "0         9.0            3571            1976                         0.525   \n",
       "1         9.0            4092            1250                         0.572   \n",
       "2         9.0            3865            1586                         0.580   \n",
       "3         7.5            4870            2351                         0.529   \n",
       "4         8.0            4399             431                         0.544   \n",
       "\n",
       "   Petrol_Consumption  \n",
       "0                 541  \n",
       "1                 524  \n",
       "2                 561  \n",
       "3                 414  \n",
       "4                 410  "
      ]
     },
     "execution_count": 2,
     "metadata": {},
     "output_type": "execute_result"
    }
   ],
   "source": [
    "petrol_df = pd.read_csv(\"petrol_consumption.csv\")\n",
    "petrol_df.head()"
   ]
  },
  {
   "cell_type": "markdown",
   "metadata": {},
   "source": [
    "3.)  Divide dataset into train and test sets"
   ]
  },
  {
   "cell_type": "code",
   "execution_count": 3,
   "metadata": {},
   "outputs": [],
   "source": [
    "X_train, X_test, Y_train, Y_test = train_test_split(petrol_df.drop('Petrol_Consumption', axis=1), petrol_df['Petrol_Consumption'], test_size=0.2, random_state=122)\n"
   ]
  },
  {
   "cell_type": "markdown",
   "metadata": {},
   "source": [
    "3.) First let's create our 'full tree' without restricting any of the hyperparameters.  We'll fit the tree using the train dataset."
   ]
  },
  {
   "cell_type": "code",
   "execution_count": 4,
   "metadata": {},
   "outputs": [
    {
     "data": {
      "text/plain": [
       "DecisionTreeRegressor(criterion='mse', max_depth=None, max_features=None,\n",
       "           max_leaf_nodes=None, min_impurity_decrease=0.0,\n",
       "           min_impurity_split=None, min_samples_leaf=1,\n",
       "           min_samples_split=2, min_weight_fraction_leaf=0.0,\n",
       "           presort=False, random_state=122, splitter='best')"
      ]
     },
     "execution_count": 4,
     "metadata": {},
     "output_type": "execute_result"
    }
   ],
   "source": [
    "full_tree = DecisionTreeRegressor(random_state=122)\n",
    "full_tree.fit(X_train, Y_train)"
   ]
  },
  {
   "cell_type": "markdown",
   "metadata": {},
   "source": [
    "4.)  Now we'll make some predictions with this full tree, and calculate MSE and R2 to get a baseline for how well it performed."
   ]
  },
  {
   "cell_type": "code",
   "execution_count": 5,
   "metadata": {},
   "outputs": [],
   "source": [
    "predictions = full_tree.predict(X_test)"
   ]
  },
  {
   "cell_type": "code",
   "execution_count": 6,
   "metadata": {},
   "outputs": [
    {
     "data": {
      "text/plain": [
       "90.9"
      ]
     },
     "execution_count": 6,
     "metadata": {},
     "output_type": "execute_result"
    }
   ],
   "source": [
    "mean_absolute_error(Y_test,predictions)"
   ]
  },
  {
   "cell_type": "code",
   "execution_count": 7,
   "metadata": {},
   "outputs": [
    {
     "data": {
      "text/plain": [
       "-0.007822817405810145"
      ]
     },
     "execution_count": 7,
     "metadata": {},
     "output_type": "execute_result"
    }
   ],
   "source": [
    "r2_score(Y_test,predictions)"
   ]
  },
  {
   "cell_type": "markdown",
   "metadata": {},
   "source": [
    "It's no suprise that the MSE is quite high, while the r2 value is quite low (and is actually negative!).  This tree isn't very accurate as is.  Next we want to prune the tree by seeing if we can find an ideal combination of hyperparameter values which will create a more accurate tree."
   ]
  },
  {
   "cell_type": "markdown",
   "metadata": {},
   "source": [
    "5.)  Next, I'll use Gridsearch to find the optimal number of hyperparameters to use in my decision\n",
    "tree.  Will try out several different combinations.  Will use 10 folds for cross validation."
   ]
  },
  {
   "cell_type": "code",
   "execution_count": 8,
   "metadata": {},
   "outputs": [],
   "source": [
    "param_grid = [{\"max_features\":[None,1,2,3],\"max_depth\":[3, 4, 5, 6,7,8,None],\"min_samples_split\":[2,3,4,5]}]\n",
    "gs = GridSearchCV(estimator=DecisionTreeRegressor(random_state=123), param_grid = param_grid, cv=10)"
   ]
  },
  {
   "cell_type": "markdown",
   "metadata": {},
   "source": [
    "6.)  Now, will fit the data on the train set, and print out the different combinations that Gridsearch has tried...(note since there were so many different combinations I commented this step out for purposes of submitting assignment.)"
   ]
  },
  {
   "cell_type": "code",
   "execution_count": 9,
   "metadata": {},
   "outputs": [
    {
     "name": "stderr",
     "output_type": "stream",
     "text": [
      "C:\\Users\\Todd\\Anaconda3\\lib\\site-packages\\sklearn\\model_selection\\_search.py:841: DeprecationWarning: The default of the `iid` parameter will change from True to False in version 0.22 and will be removed in 0.24. This will change numeric results when test-set sizes are unequal.\n",
      "  DeprecationWarning)\n"
     ]
    },
    {
     "data": {
      "text/plain": [
       "GridSearchCV(cv=10, error_score='raise-deprecating',\n",
       "       estimator=DecisionTreeRegressor(criterion='mse', max_depth=None, max_features=None,\n",
       "           max_leaf_nodes=None, min_impurity_decrease=0.0,\n",
       "           min_impurity_split=None, min_samples_leaf=1,\n",
       "           min_samples_split=2, min_weight_fraction_leaf=0.0,\n",
       "           presort=False, random_state=123, splitter='best'),\n",
       "       fit_params=None, iid='warn', n_jobs=None,\n",
       "       param_grid=[{'max_features': [None, 1, 2, 3], 'max_depth': [3, 4, 5, 6, 7, 8, None], 'min_samples_split': [2, 3, 4, 5]}],\n",
       "       pre_dispatch='2*n_jobs', refit=True, return_train_score='warn',\n",
       "       scoring=None, verbose=0)"
      ]
     },
     "execution_count": 9,
     "metadata": {},
     "output_type": "execute_result"
    }
   ],
   "source": [
    "gs.fit(X_train, Y_train)\n",
    "#gs.cv_results_['params']  "
   ]
  },
  {
   "cell_type": "markdown",
   "metadata": {},
   "source": [
    "...and will print the best hyperparameter combination."
   ]
  },
  {
   "cell_type": "code",
   "execution_count": 10,
   "metadata": {},
   "outputs": [
    {
     "data": {
      "text/plain": [
       "{'max_depth': 3, 'max_features': 1, 'min_samples_split': 3}"
      ]
     },
     "execution_count": 10,
     "metadata": {},
     "output_type": "execute_result"
    }
   ],
   "source": [
    "gs.best_params_"
   ]
  },
  {
   "cell_type": "markdown",
   "metadata": {},
   "source": [
    "From the output, it looks like the best combination of hyperparameters to use is a tree with max depth = 3, maximum features = 1, and minimum samples required for any split to be 3.  "
   ]
  },
  {
   "cell_type": "markdown",
   "metadata": {},
   "source": [
    "7.)  Now we can use these hyperparameter values to create a new 'pruned' tree.  Let's also visualize this as now the tree will be a reasonable size that we can look at."
   ]
  },
  {
   "cell_type": "code",
   "execution_count": 11,
   "metadata": {},
   "outputs": [
    {
     "data": {
      "image/svg+xml": [
       "<?xml version=\"1.0\" encoding=\"UTF-8\" standalone=\"no\"?>\r\n",
       "<!DOCTYPE svg PUBLIC \"-//W3C//DTD SVG 1.1//EN\"\r\n",
       " \"http://www.w3.org/Graphics/SVG/1.1/DTD/svg11.dtd\">\r\n",
       "<!-- Generated by graphviz version 2.38.0 (20140413.2041)\r\n",
       " -->\r\n",
       "<!-- Title: Tree Pages: 1 -->\r\n",
       "<svg width=\"866pt\" height=\"373pt\"\r\n",
       " viewBox=\"0.00 0.00 866.00 373.00\" xmlns=\"http://www.w3.org/2000/svg\" xmlns:xlink=\"http://www.w3.org/1999/xlink\">\r\n",
       "<g id=\"graph0\" class=\"graph\" transform=\"scale(1 1) rotate(0) translate(4 369)\">\r\n",
       "<title>Tree</title>\r\n",
       "<polygon fill=\"white\" stroke=\"none\" points=\"-4,4 -4,-369 862,-369 862,4 -4,4\"/>\r\n",
       "<!-- 0 -->\r\n",
       "<g id=\"node1\" class=\"node\"><title>0</title>\r\n",
       "<path fill=\"#e58139\" fill-opacity=\"0.278431\" stroke=\"black\" d=\"M426.5,-365C426.5,-365 317.5,-365 317.5,-365 311.5,-365 305.5,-359 305.5,-353 305.5,-353 305.5,-309 305.5,-309 305.5,-303 311.5,-297 317.5,-297 317.5,-297 426.5,-297 426.5,-297 432.5,-297 438.5,-303 438.5,-309 438.5,-309 438.5,-353 438.5,-353 438.5,-359 432.5,-365 426.5,-365\"/>\r\n",
       "<text text-anchor=\"middle\" x=\"372\" y=\"-349.8\" font-family=\"Helvetica,sans-Serif\" font-size=\"14.00\">Petrol_tax &lt;= 7.25</text>\r\n",
       "<text text-anchor=\"middle\" x=\"372\" y=\"-334.8\" font-family=\"Helvetica,sans-Serif\" font-size=\"14.00\">mse = 12294.81</text>\r\n",
       "<text text-anchor=\"middle\" x=\"372\" y=\"-319.8\" font-family=\"Helvetica,sans-Serif\" font-size=\"14.00\">samples = 38</text>\r\n",
       "<text text-anchor=\"middle\" x=\"372\" y=\"-304.8\" font-family=\"Helvetica,sans-Serif\" font-size=\"14.00\">value = 578.079</text>\r\n",
       "</g>\r\n",
       "<!-- 1 -->\r\n",
       "<g id=\"node2\" class=\"node\"><title>1</title>\r\n",
       "<path fill=\"#e58139\" fill-opacity=\"0.388235\" stroke=\"black\" d=\"M368.5,-261C368.5,-261 127.5,-261 127.5,-261 121.5,-261 115.5,-255 115.5,-249 115.5,-249 115.5,-205 115.5,-205 115.5,-199 121.5,-193 127.5,-193 127.5,-193 368.5,-193 368.5,-193 374.5,-193 380.5,-199 380.5,-205 380.5,-205 380.5,-249 380.5,-249 380.5,-255 374.5,-261 368.5,-261\"/>\r\n",
       "<text text-anchor=\"middle\" x=\"248\" y=\"-245.8\" font-family=\"Helvetica,sans-Serif\" font-size=\"14.00\">Population_Driver_licence(%) &lt;= 0.667</text>\r\n",
       "<text text-anchor=\"middle\" x=\"248\" y=\"-230.8\" font-family=\"Helvetica,sans-Serif\" font-size=\"14.00\">mse = 13420.133</text>\r\n",
       "<text text-anchor=\"middle\" x=\"248\" y=\"-215.8\" font-family=\"Helvetica,sans-Serif\" font-size=\"14.00\">samples = 19</text>\r\n",
       "<text text-anchor=\"middle\" x=\"248\" y=\"-200.8\" font-family=\"Helvetica,sans-Serif\" font-size=\"14.00\">value = 628.842</text>\r\n",
       "</g>\r\n",
       "<!-- 0&#45;&gt;1 -->\r\n",
       "<g id=\"edge1\" class=\"edge\"><title>0&#45;&gt;1</title>\r\n",
       "<path fill=\"none\" stroke=\"black\" d=\"M331.741,-296.884C320.479,-287.62 308.122,-277.455 296.44,-267.845\"/>\r\n",
       "<polygon fill=\"black\" stroke=\"black\" points=\"298.428,-264.949 288.482,-261.299 293.981,-270.355 298.428,-264.949\"/>\r\n",
       "<text text-anchor=\"middle\" x=\"290.904\" y=\"-282.482\" font-family=\"Helvetica,sans-Serif\" font-size=\"14.00\">True</text>\r\n",
       "</g>\r\n",
       "<!-- 6 -->\r\n",
       "<g id=\"node7\" class=\"node\"><title>6</title>\r\n",
       "<path fill=\"#e58139\" fill-opacity=\"0.172549\" stroke=\"black\" d=\"M581,-261C581,-261 411,-261 411,-261 405,-261 399,-255 399,-249 399,-249 399,-205 399,-205 399,-199 405,-193 411,-193 411,-193 581,-193 581,-193 587,-193 593,-199 593,-205 593,-205 593,-249 593,-249 593,-255 587,-261 581,-261\"/>\r\n",
       "<text text-anchor=\"middle\" x=\"496\" y=\"-245.8\" font-family=\"Helvetica,sans-Serif\" font-size=\"14.00\">Average_income &lt;= 4419.0</text>\r\n",
       "<text text-anchor=\"middle\" x=\"496\" y=\"-230.8\" font-family=\"Helvetica,sans-Serif\" font-size=\"14.00\">mse = 6015.69</text>\r\n",
       "<text text-anchor=\"middle\" x=\"496\" y=\"-215.8\" font-family=\"Helvetica,sans-Serif\" font-size=\"14.00\">samples = 19</text>\r\n",
       "<text text-anchor=\"middle\" x=\"496\" y=\"-200.8\" font-family=\"Helvetica,sans-Serif\" font-size=\"14.00\">value = 527.316</text>\r\n",
       "</g>\r\n",
       "<!-- 0&#45;&gt;6 -->\r\n",
       "<g id=\"edge6\" class=\"edge\"><title>0&#45;&gt;6</title>\r\n",
       "<path fill=\"none\" stroke=\"black\" d=\"M412.259,-296.884C423.521,-287.62 435.878,-277.455 447.56,-267.845\"/>\r\n",
       "<polygon fill=\"black\" stroke=\"black\" points=\"450.019,-270.355 455.518,-261.299 445.572,-264.949 450.019,-270.355\"/>\r\n",
       "<text text-anchor=\"middle\" x=\"453.096\" y=\"-282.482\" font-family=\"Helvetica,sans-Serif\" font-size=\"14.00\">False</text>\r\n",
       "</g>\r\n",
       "<!-- 2 -->\r\n",
       "<g id=\"node3\" class=\"node\"><title>2</title>\r\n",
       "<path fill=\"#e58139\" fill-opacity=\"0.317647\" stroke=\"black\" d=\"M182,-157C182,-157 12,-157 12,-157 6,-157 0,-151 0,-145 0,-145 0,-101 0,-101 0,-95 6,-89 12,-89 12,-89 182,-89 182,-89 188,-89 194,-95 194,-101 194,-101 194,-145 194,-145 194,-151 188,-157 182,-157\"/>\r\n",
       "<text text-anchor=\"middle\" x=\"97\" y=\"-141.8\" font-family=\"Helvetica,sans-Serif\" font-size=\"14.00\">Average_income &lt;= 4325.0</text>\r\n",
       "<text text-anchor=\"middle\" x=\"97\" y=\"-126.8\" font-family=\"Helvetica,sans-Serif\" font-size=\"14.00\">mse = 3806.706</text>\r\n",
       "<text text-anchor=\"middle\" x=\"97\" y=\"-111.8\" font-family=\"Helvetica,sans-Serif\" font-size=\"14.00\">samples = 17</text>\r\n",
       "<text text-anchor=\"middle\" x=\"97\" y=\"-96.8\" font-family=\"Helvetica,sans-Serif\" font-size=\"14.00\">value = 595.0</text>\r\n",
       "</g>\r\n",
       "<!-- 1&#45;&gt;2 -->\r\n",
       "<g id=\"edge2\" class=\"edge\"><title>1&#45;&gt;2</title>\r\n",
       "<path fill=\"none\" stroke=\"black\" d=\"M198.975,-192.884C184.793,-183.304 169.185,-172.761 154.535,-162.864\"/>\r\n",
       "<polygon fill=\"black\" stroke=\"black\" points=\"156.283,-159.822 146.038,-157.125 152.365,-165.623 156.283,-159.822\"/>\r\n",
       "</g>\r\n",
       "<!-- 5 -->\r\n",
       "<g id=\"node6\" class=\"node\"><title>5</title>\r\n",
       "<path fill=\"#e58139\" stroke=\"black\" d=\"M313.5,-149.5C313.5,-149.5 224.5,-149.5 224.5,-149.5 218.5,-149.5 212.5,-143.5 212.5,-137.5 212.5,-137.5 212.5,-108.5 212.5,-108.5 212.5,-102.5 218.5,-96.5 224.5,-96.5 224.5,-96.5 313.5,-96.5 313.5,-96.5 319.5,-96.5 325.5,-102.5 325.5,-108.5 325.5,-108.5 325.5,-137.5 325.5,-137.5 325.5,-143.5 319.5,-149.5 313.5,-149.5\"/>\r\n",
       "<text text-anchor=\"middle\" x=\"269\" y=\"-134.3\" font-family=\"Helvetica,sans-Serif\" font-size=\"14.00\">mse = 2652.25</text>\r\n",
       "<text text-anchor=\"middle\" x=\"269\" y=\"-119.3\" font-family=\"Helvetica,sans-Serif\" font-size=\"14.00\">samples = 2</text>\r\n",
       "<text text-anchor=\"middle\" x=\"269\" y=\"-104.3\" font-family=\"Helvetica,sans-Serif\" font-size=\"14.00\">value = 916.5</text>\r\n",
       "</g>\r\n",
       "<!-- 1&#45;&gt;5 -->\r\n",
       "<g id=\"edge5\" class=\"edge\"><title>1&#45;&gt;5</title>\r\n",
       "<path fill=\"none\" stroke=\"black\" d=\"M254.818,-192.884C257.014,-182.216 259.457,-170.352 261.687,-159.519\"/>\r\n",
       "<polygon fill=\"black\" stroke=\"black\" points=\"265.157,-160.02 263.746,-149.52 258.301,-158.609 265.157,-160.02\"/>\r\n",
       "</g>\r\n",
       "<!-- 3 -->\r\n",
       "<g id=\"node4\" class=\"node\"><title>3</title>\r\n",
       "<path fill=\"#e58139\" fill-opacity=\"0.360784\" stroke=\"black\" d=\"M129,-53C129,-53 31,-53 31,-53 25,-53 19,-47 19,-41 19,-41 19,-12 19,-12 19,-6 25,-0 31,-0 31,-0 129,-0 129,-0 135,-0 141,-6 141,-12 141,-12 141,-41 141,-41 141,-47 135,-53 129,-53\"/>\r\n",
       "<text text-anchor=\"middle\" x=\"80\" y=\"-37.8\" font-family=\"Helvetica,sans-Serif\" font-size=\"14.00\">mse = 3372.992</text>\r\n",
       "<text text-anchor=\"middle\" x=\"80\" y=\"-22.8\" font-family=\"Helvetica,sans-Serif\" font-size=\"14.00\">samples = 11</text>\r\n",
       "<text text-anchor=\"middle\" x=\"80\" y=\"-7.8\" font-family=\"Helvetica,sans-Serif\" font-size=\"14.00\">value = 615.091</text>\r\n",
       "</g>\r\n",
       "<!-- 2&#45;&gt;3 -->\r\n",
       "<g id=\"edge3\" class=\"edge\"><title>2&#45;&gt;3</title>\r\n",
       "<path fill=\"none\" stroke=\"black\" d=\"M91.0542,-88.9485C89.5567,-80.6238 87.9425,-71.6509 86.4227,-63.2027\"/>\r\n",
       "<polygon fill=\"black\" stroke=\"black\" points=\"89.8452,-62.459 84.6299,-53.2367 82.9558,-63.6984 89.8452,-62.459\"/>\r\n",
       "</g>\r\n",
       "<!-- 4 -->\r\n",
       "<g id=\"node5\" class=\"node\"><title>4</title>\r\n",
       "<path fill=\"#e58139\" fill-opacity=\"0.239216\" stroke=\"black\" d=\"M269,-53C269,-53 171,-53 171,-53 165,-53 159,-47 159,-41 159,-41 159,-12 159,-12 159,-6 165,-0 171,-0 171,-0 269,-0 269,-0 275,-0 281,-6 281,-12 281,-12 281,-41 281,-41 281,-47 275,-53 269,-53\"/>\r\n",
       "<text text-anchor=\"middle\" x=\"220\" y=\"-37.8\" font-family=\"Helvetica,sans-Serif\" font-size=\"14.00\">mse = 2505.139</text>\r\n",
       "<text text-anchor=\"middle\" x=\"220\" y=\"-22.8\" font-family=\"Helvetica,sans-Serif\" font-size=\"14.00\">samples = 6</text>\r\n",
       "<text text-anchor=\"middle\" x=\"220\" y=\"-7.8\" font-family=\"Helvetica,sans-Serif\" font-size=\"14.00\">value = 558.167</text>\r\n",
       "</g>\r\n",
       "<!-- 2&#45;&gt;4 -->\r\n",
       "<g id=\"edge4\" class=\"edge\"><title>2&#45;&gt;4</title>\r\n",
       "<path fill=\"none\" stroke=\"black\" d=\"M140.019,-88.9485C152.522,-79.3431 166.147,-68.8747 178.551,-59.345\"/>\r\n",
       "<polygon fill=\"black\" stroke=\"black\" points=\"180.704,-62.1046 186.501,-53.2367 176.439,-56.5537 180.704,-62.1046\"/>\r\n",
       "</g>\r\n",
       "<!-- 7 -->\r\n",
       "<g id=\"node8\" class=\"node\"><title>7</title>\r\n",
       "<path fill=\"#e58139\" fill-opacity=\"0.278431\" stroke=\"black\" d=\"M560,-157C560,-157 390,-157 390,-157 384,-157 378,-151 378,-145 378,-145 378,-101 378,-101 378,-95 384,-89 390,-89 390,-89 560,-89 560,-89 566,-89 572,-95 572,-101 572,-101 572,-145 572,-145 572,-151 566,-157 560,-157\"/>\r\n",
       "<text text-anchor=\"middle\" x=\"475\" y=\"-141.8\" font-family=\"Helvetica,sans-Serif\" font-size=\"14.00\">Average_income &lt;= 3618.0</text>\r\n",
       "<text text-anchor=\"middle\" x=\"475\" y=\"-126.8\" font-family=\"Helvetica,sans-Serif\" font-size=\"14.00\">mse = 2118.562</text>\r\n",
       "<text text-anchor=\"middle\" x=\"475\" y=\"-111.8\" font-family=\"Helvetica,sans-Serif\" font-size=\"14.00\">samples = 11</text>\r\n",
       "<text text-anchor=\"middle\" x=\"475\" y=\"-96.8\" font-family=\"Helvetica,sans-Serif\" font-size=\"14.00\">value = 577.727</text>\r\n",
       "</g>\r\n",
       "<!-- 6&#45;&gt;7 -->\r\n",
       "<g id=\"edge7\" class=\"edge\"><title>6&#45;&gt;7</title>\r\n",
       "<path fill=\"none\" stroke=\"black\" d=\"M489.182,-192.884C487.495,-184.689 485.662,-175.789 483.892,-167.192\"/>\r\n",
       "<polygon fill=\"black\" stroke=\"black\" points=\"487.3,-166.388 481.856,-157.299 480.444,-167.8 487.3,-166.388\"/>\r\n",
       "</g>\r\n",
       "<!-- 10 -->\r\n",
       "<g id=\"node11\" class=\"node\"><title>10</title>\r\n",
       "<path fill=\"#e58139\" fill-opacity=\"0.023529\" stroke=\"black\" d=\"M764,-157C764,-157 602,-157 602,-157 596,-157 590,-151 590,-145 590,-145 590,-101 590,-101 590,-95 596,-89 602,-89 602,-89 764,-89 764,-89 770,-89 776,-95 776,-101 776,-101 776,-145 776,-145 776,-151 770,-157 764,-157\"/>\r\n",
       "<text text-anchor=\"middle\" x=\"683\" y=\"-141.8\" font-family=\"Helvetica,sans-Serif\" font-size=\"14.00\">Paved_Highways &lt;= 967.5</text>\r\n",
       "<text text-anchor=\"middle\" x=\"683\" y=\"-126.8\" font-family=\"Helvetica,sans-Serif\" font-size=\"14.00\">mse = 3075.25</text>\r\n",
       "<text text-anchor=\"middle\" x=\"683\" y=\"-111.8\" font-family=\"Helvetica,sans-Serif\" font-size=\"14.00\">samples = 8</text>\r\n",
       "<text text-anchor=\"middle\" x=\"683\" y=\"-96.8\" font-family=\"Helvetica,sans-Serif\" font-size=\"14.00\">value = 458.0</text>\r\n",
       "</g>\r\n",
       "<!-- 6&#45;&gt;10 -->\r\n",
       "<g id=\"edge10\" class=\"edge\"><title>6&#45;&gt;10</title>\r\n",
       "<path fill=\"none\" stroke=\"black\" d=\"M556.714,-192.884C574.768,-183.035 594.691,-172.169 613.272,-162.034\"/>\r\n",
       "<polygon fill=\"black\" stroke=\"black\" points=\"615.168,-164.986 622.271,-157.125 611.816,-158.841 615.168,-164.986\"/>\r\n",
       "</g>\r\n",
       "<!-- 8 -->\r\n",
       "<g id=\"node9\" class=\"node\"><title>8</title>\r\n",
       "<path fill=\"#e58139\" fill-opacity=\"0.207843\" stroke=\"black\" d=\"M430.5,-53C430.5,-53 341.5,-53 341.5,-53 335.5,-53 329.5,-47 329.5,-41 329.5,-41 329.5,-12 329.5,-12 329.5,-6 335.5,-0 341.5,-0 341.5,-0 430.5,-0 430.5,-0 436.5,-0 442.5,-6 442.5,-12 442.5,-12 442.5,-41 442.5,-41 442.5,-47 436.5,-53 430.5,-53\"/>\r\n",
       "<text text-anchor=\"middle\" x=\"386\" y=\"-37.8\" font-family=\"Helvetica,sans-Serif\" font-size=\"14.00\">mse = 1106.56</text>\r\n",
       "<text text-anchor=\"middle\" x=\"386\" y=\"-22.8\" font-family=\"Helvetica,sans-Serif\" font-size=\"14.00\">samples = 5</text>\r\n",
       "<text text-anchor=\"middle\" x=\"386\" y=\"-7.8\" font-family=\"Helvetica,sans-Serif\" font-size=\"14.00\">value = 543.2</text>\r\n",
       "</g>\r\n",
       "<!-- 7&#45;&gt;8 -->\r\n",
       "<g id=\"edge8\" class=\"edge\"><title>7&#45;&gt;8</title>\r\n",
       "<path fill=\"none\" stroke=\"black\" d=\"M443.872,-88.9485C435.257,-79.8005 425.904,-69.8697 417.28,-60.7126\"/>\r\n",
       "<polygon fill=\"black\" stroke=\"black\" points=\"419.643,-58.1168 410.239,-53.2367 414.547,-62.9161 419.643,-58.1168\"/>\r\n",
       "</g>\r\n",
       "<!-- 9 -->\r\n",
       "<g id=\"node10\" class=\"node\"><title>9</title>\r\n",
       "<path fill=\"#e58139\" fill-opacity=\"0.341176\" stroke=\"black\" d=\"M571,-53C571,-53 473,-53 473,-53 467,-53 461,-47 461,-41 461,-41 461,-12 461,-12 461,-6 467,-0 473,-0 473,-0 571,-0 571,-0 577,-0 583,-6 583,-12 583,-12 583,-41 583,-41 583,-47 577,-53 571,-53\"/>\r\n",
       "<text text-anchor=\"middle\" x=\"522\" y=\"-37.8\" font-family=\"Helvetica,sans-Serif\" font-size=\"14.00\">mse = 1140.583</text>\r\n",
       "<text text-anchor=\"middle\" x=\"522\" y=\"-22.8\" font-family=\"Helvetica,sans-Serif\" font-size=\"14.00\">samples = 6</text>\r\n",
       "<text text-anchor=\"middle\" x=\"522\" y=\"-7.8\" font-family=\"Helvetica,sans-Serif\" font-size=\"14.00\">value = 606.5</text>\r\n",
       "</g>\r\n",
       "<!-- 7&#45;&gt;9 -->\r\n",
       "<g id=\"edge9\" class=\"edge\"><title>7&#45;&gt;9</title>\r\n",
       "<path fill=\"none\" stroke=\"black\" d=\"M491.438,-88.9485C495.715,-80.3494 500.336,-71.0586 504.658,-62.3689\"/>\r\n",
       "<polygon fill=\"black\" stroke=\"black\" points=\"507.88,-63.7491 509.2,-53.2367 501.613,-60.6318 507.88,-63.7491\"/>\r\n",
       "</g>\r\n",
       "<!-- 11 -->\r\n",
       "<g id=\"node12\" class=\"node\"><title>11</title>\r\n",
       "<path fill=\"#e58139\" fill-opacity=\"0.200000\" stroke=\"black\" d=\"M706,-53C706,-53 628,-53 628,-53 622,-53 616,-47 616,-41 616,-41 616,-12 616,-12 616,-6 622,-0 628,-0 628,-0 706,-0 706,-0 712,-0 718,-6 718,-12 718,-12 718,-41 718,-41 718,-47 712,-53 706,-53\"/>\r\n",
       "<text text-anchor=\"middle\" x=\"667\" y=\"-37.8\" font-family=\"Helvetica,sans-Serif\" font-size=\"14.00\">mse = 0.0</text>\r\n",
       "<text text-anchor=\"middle\" x=\"667\" y=\"-22.8\" font-family=\"Helvetica,sans-Serif\" font-size=\"14.00\">samples = 1</text>\r\n",
       "<text text-anchor=\"middle\" x=\"667\" y=\"-7.8\" font-family=\"Helvetica,sans-Serif\" font-size=\"14.00\">value = 540.0</text>\r\n",
       "</g>\r\n",
       "<!-- 10&#45;&gt;11 -->\r\n",
       "<g id=\"edge11\" class=\"edge\"><title>10&#45;&gt;11</title>\r\n",
       "<path fill=\"none\" stroke=\"black\" d=\"M677.404,-88.9485C675.995,-80.6238 674.475,-71.6509 673.045,-63.2027\"/>\r\n",
       "<polygon fill=\"black\" stroke=\"black\" points=\"676.478,-62.5121 671.358,-53.2367 669.576,-63.6807 676.478,-62.5121\"/>\r\n",
       "</g>\r\n",
       "<!-- 12 -->\r\n",
       "<g id=\"node13\" class=\"node\"><title>12</title>\r\n",
       "<path fill=\"none\" stroke=\"black\" d=\"M846,-53C846,-53 748,-53 748,-53 742,-53 736,-47 736,-41 736,-41 736,-12 736,-12 736,-6 742,-0 748,-0 748,-0 846,-0 846,-0 852,-0 858,-6 858,-12 858,-12 858,-41 858,-41 858,-47 852,-53 846,-53\"/>\r\n",
       "<text text-anchor=\"middle\" x=\"797\" y=\"-37.8\" font-family=\"Helvetica,sans-Serif\" font-size=\"14.00\">mse = 2416.776</text>\r\n",
       "<text text-anchor=\"middle\" x=\"797\" y=\"-22.8\" font-family=\"Helvetica,sans-Serif\" font-size=\"14.00\">samples = 7</text>\r\n",
       "<text text-anchor=\"middle\" x=\"797\" y=\"-7.8\" font-family=\"Helvetica,sans-Serif\" font-size=\"14.00\">value = 446.286</text>\r\n",
       "</g>\r\n",
       "<!-- 10&#45;&gt;12 -->\r\n",
       "<g id=\"edge12\" class=\"edge\"><title>10&#45;&gt;12</title>\r\n",
       "<path fill=\"none\" stroke=\"black\" d=\"M722.872,-88.9485C734.238,-79.526 746.607,-69.2731 757.926,-59.8906\"/>\r\n",
       "<polygon fill=\"black\" stroke=\"black\" points=\"760.487,-62.3132 765.953,-53.2367 756.02,-56.924 760.487,-62.3132\"/>\r\n",
       "</g>\r\n",
       "</g>\r\n",
       "</svg>\r\n"
      ],
      "text/plain": [
       "<graphviz.files.Source at 0x234a4251630>"
      ]
     },
     "execution_count": 11,
     "metadata": {},
     "output_type": "execute_result"
    }
   ],
   "source": [
    "cut_tree = gs.best_estimator_\n",
    "dot_data = export_graphviz(cut_tree, filled=True, rounded=True, feature_names=X_train.columns, out_file=None)\n",
    "graphviz.Source(dot_data)"
   ]
  },
  {
   "cell_type": "markdown",
   "metadata": {},
   "source": [
    "8.)  Now we'll look at how well this new pruned tree does on the test dataset."
   ]
  },
  {
   "cell_type": "code",
   "execution_count": 12,
   "metadata": {},
   "outputs": [],
   "source": [
    "predictions = cut_tree.predict(X_test)"
   ]
  },
  {
   "cell_type": "code",
   "execution_count": 13,
   "metadata": {},
   "outputs": [
    {
     "data": {
      "text/plain": [
       "74.65467532467531"
      ]
     },
     "execution_count": 13,
     "metadata": {},
     "output_type": "execute_result"
    }
   ],
   "source": [
    "mean_absolute_error(Y_test,predictions)"
   ]
  },
  {
   "cell_type": "code",
   "execution_count": 14,
   "metadata": {},
   "outputs": [
    {
     "data": {
      "text/plain": [
       "0.30006179800338983"
      ]
     },
     "execution_count": 14,
     "metadata": {},
     "output_type": "execute_result"
    }
   ],
   "source": [
    "r2_score(Y_test,predictions)"
   ]
  },
  {
   "cell_type": "markdown",
   "metadata": {},
   "source": [
    "As we can see, the mean absolute error is much lower, where the R2 value is much higher (although at 0.3 not so high as to call this tree super accurate.)  This pruned tree is definitely an improvement from the full tree.  Given the small number of records in the dataset, as well as the small number of predictors, I think my original gridsearch tested a comprehensive # of combinations of hyperparameters.  Therefore I would stop here and use this model.  "
   ]
  }
 ],
 "metadata": {
  "kernelspec": {
   "display_name": "Python 3",
   "language": "python",
   "name": "python3"
  },
  "language_info": {
   "codemirror_mode": {
    "name": "ipython",
    "version": 3
   },
   "file_extension": ".py",
   "mimetype": "text/x-python",
   "name": "python",
   "nbconvert_exporter": "python",
   "pygments_lexer": "ipython3",
   "version": "3.7.3"
  }
 },
 "nbformat": 4,
 "nbformat_minor": 2
}
